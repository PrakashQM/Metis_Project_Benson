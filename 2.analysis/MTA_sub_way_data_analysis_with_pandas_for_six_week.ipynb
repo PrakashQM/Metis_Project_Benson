{
 "cells": [
  {
   "cell_type": "markdown",
   "metadata": {},
   "source": [
    "> ### Import the relevant libraries"
   ]
  },
  {
   "cell_type": "code",
   "execution_count": 2,
   "metadata": {},
   "outputs": [],
   "source": [
    "# print_function for compatibility with Python 3\n",
    "from __future__ import print_function \n",
    "#print('Print function from python 3')\n",
    "\n",
    "# NumPy for numerical computing\n",
    "import numpy as np\n",
    "\n",
    "# Pandas for DataFrames\n",
    "import pandas as pd\n",
    "\n",
    "# Matplotlib for visualization\n",
    "import matplotlib.pyplot as plt\n",
    "\n",
    "# display plots in the notebook\n",
    "%matplotlib inline\n",
    "\n",
    "# Seaborn for easier visualization\n",
    "import seaborn as sns\n",
    "\n",
    "import calendar\n",
    "import datetime"
   ]
  },
  {
   "cell_type": "markdown",
   "metadata": {},
   "source": [
    "> ### Read the csv file as pandas DataFrame"
   ]
  },
  {
   "cell_type": "code",
   "execution_count": 11,
   "metadata": {
    "scrolled": true
   },
   "outputs": [
    {
     "name": "stdout",
     "output_type": "stream",
     "text": [
      "Please give me how many weeks of data I should compute :6\n"
     ]
    }
   ],
   "source": [
    "ask_for_how_many_files=int(input('Please give me how many weeks of data I should compute :'))"
   ]
  },
  {
   "cell_type": "code",
   "execution_count": 14,
   "metadata": {},
   "outputs": [],
   "source": [
    "import glob\n",
    "path ='../0.data/' \n",
    "filenames = glob.glob(path + \"*.txt\")\n",
    "\n",
    "df_list = []\n",
    "counter = 0\n",
    "for filename in filenames: # remove counter to load all locally available data.\n",
    "    while counter < ask_for_how_many_files:\n",
    "        df_list.append(pd.read_csv(filename))\n",
    "        counter += 1\n",
    "        df = pd.concat(df_list)\n",
    "#df.info()"
   ]
  },
  {
   "cell_type": "markdown",
   "metadata": {},
   "source": [
    "> #### clean the DataFrame"
   ]
  },
  {
   "cell_type": "markdown",
   "metadata": {},
   "source": [
    "Remove extra white space from the column names"
   ]
  },
  {
   "cell_type": "code",
   "execution_count": 15,
   "metadata": {},
   "outputs": [],
   "source": [
    "df.columns = df.columns.str.strip()\n",
    "#*Create column name **turnstile_id** by concating **'C/A'**, **'UNIT'**,  **'SCP'**, and **'STATION'***\n",
    "df['turnstile_id'] = df['C/A'] + '_' + df['UNIT'] + '_' + df['SCP'] + '_' + df['STATION']\n",
    "# convert 'DATE' column to datatime object also concact 'DATE' and TIME' as *'DATE_TIME'\n",
    "df['date'] = pd.to_datetime(df['DATE'], format='%m/%d/%Y')"
   ]
  },
  {
   "cell_type": "code",
   "execution_count": null,
   "metadata": {},
   "outputs": [],
   "source": [
    "df['DATE_TIME'] = df['DATE'] + ' ' + df['TIME']\n",
    "df['DATE_TIME'] = pd.to_datetime(df['DATE_TIME'],format=\"%m/%d/%Y %H:%M:%S\")\n",
    "# Lets examine the random sets of data to confirm out conversion went well\n",
    "df.sample(10)"
   ]
  },
  {
   "cell_type": "markdown",
   "metadata": {},
   "source": [
    "Lets create a temp dataframe for our analysis"
   ]
  },
  {
   "cell_type": "code",
   "execution_count": null,
   "metadata": {},
   "outputs": [],
   "source": [
    "df_temp=df[['turnstile_id','date','DATE_TIME','ENTRIES','EXITS','STATION']]"
   ]
  },
  {
   "cell_type": "code",
   "execution_count": 11,
   "metadata": {},
   "outputs": [
    {
     "data": {
      "text/html": [
       "<div>\n",
       "<table border=\"1\" class=\"dataframe\">\n",
       "  <thead>\n",
       "    <tr style=\"text-align: right;\">\n",
       "      <th></th>\n",
       "      <th>turnstile_id</th>\n",
       "      <th>date</th>\n",
       "      <th>DATE_TIME</th>\n",
       "      <th>ENTRIES</th>\n",
       "      <th>EXITS</th>\n",
       "      <th>STATION</th>\n",
       "    </tr>\n",
       "  </thead>\n",
       "  <tbody>\n",
       "    <tr>\n",
       "      <th>96603</th>\n",
       "      <td>N507_R023_00-03-05_34 ST-HERALD SQ</td>\n",
       "      <td>2018-03-05</td>\n",
       "      <td>2018-03-05 03:00:00</td>\n",
       "      <td>23500511</td>\n",
       "      <td>1646135</td>\n",
       "      <td>34 ST-HERALD SQ</td>\n",
       "    </tr>\n",
       "    <tr>\n",
       "      <th>123694</th>\n",
       "      <td>PTH22_R540_00-05-01_PATH NEW WTC</td>\n",
       "      <td>2018-03-08</td>\n",
       "      <td>2018-03-08 06:29:48</td>\n",
       "      <td>9719</td>\n",
       "      <td>22486</td>\n",
       "      <td>PATH NEW WTC</td>\n",
       "    </tr>\n",
       "    <tr>\n",
       "      <th>36075</th>\n",
       "      <td>J001_R460_01-06-00_MARCY AV</td>\n",
       "      <td>2018-03-17</td>\n",
       "      <td>2018-03-17 05:00:00</td>\n",
       "      <td>19345915</td>\n",
       "      <td>472319378</td>\n",
       "      <td>MARCY AV</td>\n",
       "    </tr>\n",
       "    <tr>\n",
       "      <th>90137</th>\n",
       "      <td>N408A_R256_00-00-02_NASSAU AV</td>\n",
       "      <td>2018-03-06</td>\n",
       "      <td>2018-03-06 11:00:00</td>\n",
       "      <td>1237547</td>\n",
       "      <td>1293472</td>\n",
       "      <td>NASSAU AV</td>\n",
       "    </tr>\n",
       "    <tr>\n",
       "      <th>141190</th>\n",
       "      <td>R200A_R041_01-00-05_BOWLING GREEN</td>\n",
       "      <td>2018-03-12</td>\n",
       "      <td>2018-03-12 08:00:00</td>\n",
       "      <td>12503999</td>\n",
       "      <td>7938855</td>\n",
       "      <td>BOWLING GREEN</td>\n",
       "    </tr>\n",
       "    <tr>\n",
       "      <th>138019</th>\n",
       "      <td>R170_R191_00-00-00_103 ST</td>\n",
       "      <td>2018-04-02</td>\n",
       "      <td>2018-04-02 09:00:00</td>\n",
       "      <td>929642</td>\n",
       "      <td>369245</td>\n",
       "      <td>103 ST</td>\n",
       "    </tr>\n",
       "    <tr>\n",
       "      <th>19351</th>\n",
       "      <td>B034_R264_01-05-01_OCEAN PKWY</td>\n",
       "      <td>2018-03-04</td>\n",
       "      <td>2018-03-04 15:00:00</td>\n",
       "      <td>0</td>\n",
       "      <td>824</td>\n",
       "      <td>OCEAN PKWY</td>\n",
       "    </tr>\n",
       "    <tr>\n",
       "      <th>63512</th>\n",
       "      <td>N120A_R153_01-00-01_UTICA AV</td>\n",
       "      <td>2018-02-27</td>\n",
       "      <td>2018-02-27 16:00:00</td>\n",
       "      <td>2738486</td>\n",
       "      <td>4680405</td>\n",
       "      <td>UTICA AV</td>\n",
       "    </tr>\n",
       "    <tr>\n",
       "      <th>82801</th>\n",
       "      <td>N333_R141_01-00-00_FOREST HILLS 71</td>\n",
       "      <td>2018-03-21</td>\n",
       "      <td>2018-03-21 01:00:00</td>\n",
       "      <td>1042155</td>\n",
       "      <td>271186</td>\n",
       "      <td>FOREST HILLS 71</td>\n",
       "    </tr>\n",
       "    <tr>\n",
       "      <th>137913</th>\n",
       "      <td>R170_R191_00-03-01_103 ST</td>\n",
       "      <td>2018-03-25</td>\n",
       "      <td>2018-03-25 05:00:00</td>\n",
       "      <td>11914183</td>\n",
       "      <td>9545045</td>\n",
       "      <td>103 ST</td>\n",
       "    </tr>\n",
       "  </tbody>\n",
       "</table>\n",
       "</div>"
      ],
      "text/plain": [
       "                              turnstile_id       date           DATE_TIME  \\\n",
       "96603   N507_R023_00-03-05_34 ST-HERALD SQ 2018-03-05 2018-03-05 03:00:00   \n",
       "123694    PTH22_R540_00-05-01_PATH NEW WTC 2018-03-08 2018-03-08 06:29:48   \n",
       "36075          J001_R460_01-06-00_MARCY AV 2018-03-17 2018-03-17 05:00:00   \n",
       "90137        N408A_R256_00-00-02_NASSAU AV 2018-03-06 2018-03-06 11:00:00   \n",
       "141190   R200A_R041_01-00-05_BOWLING GREEN 2018-03-12 2018-03-12 08:00:00   \n",
       "138019           R170_R191_00-00-00_103 ST 2018-04-02 2018-04-02 09:00:00   \n",
       "19351        B034_R264_01-05-01_OCEAN PKWY 2018-03-04 2018-03-04 15:00:00   \n",
       "63512         N120A_R153_01-00-01_UTICA AV 2018-02-27 2018-02-27 16:00:00   \n",
       "82801   N333_R141_01-00-00_FOREST HILLS 71 2018-03-21 2018-03-21 01:00:00   \n",
       "137913           R170_R191_00-03-01_103 ST 2018-03-25 2018-03-25 05:00:00   \n",
       "\n",
       "         ENTRIES      EXITS          STATION  \n",
       "96603   23500511    1646135  34 ST-HERALD SQ  \n",
       "123694      9719      22486     PATH NEW WTC  \n",
       "36075   19345915  472319378         MARCY AV  \n",
       "90137    1237547    1293472        NASSAU AV  \n",
       "141190  12503999    7938855    BOWLING GREEN  \n",
       "138019    929642     369245           103 ST  \n",
       "19351          0        824       OCEAN PKWY  \n",
       "63512    2738486    4680405         UTICA AV  \n",
       "82801    1042155     271186  FOREST HILLS 71  \n",
       "137913  11914183    9545045           103 ST  "
      ]
     },
     "execution_count": 11,
     "metadata": {},
     "output_type": "execute_result"
    }
   ],
   "source": [
    "df_temp.sample(10)"
   ]
  },
  {
   "cell_type": "markdown",
   "metadata": {},
   "source": [
    "> Lets sort df_temp values by 'turnstile_id' and 'DATE_TIME'  \n",
    "    > group them by 'turnstile_id','date',and 'STATION'  \n",
    "    > use diff them to find the difference between row(N)-row(N-1)  \n",
    "    > I am fully aware the it will generate NaN values if it can not find N-1 objects"
   ]
  },
  {
   "cell_type": "code",
   "execution_count": 12,
   "metadata": {},
   "outputs": [],
   "source": [
    "df_temp1=(df_temp\n",
    " .sort_values(by=['turnstile_id','DATE_TIME'])\n",
    " .groupby(['turnstile_id','date','STATION'])\n",
    " .diff())"
   ]
  },
  {
   "cell_type": "markdown",
   "metadata": {},
   "source": [
    "As expected we got some Nan values"
   ]
  },
  {
   "cell_type": "code",
   "execution_count": 13,
   "metadata": {},
   "outputs": [
    {
     "data": {
      "text/html": [
       "<div>\n",
       "<table border=\"1\" class=\"dataframe\">\n",
       "  <thead>\n",
       "    <tr style=\"text-align: right;\">\n",
       "      <th></th>\n",
       "      <th>DATE_TIME</th>\n",
       "      <th>ENTRIES</th>\n",
       "      <th>EXITS</th>\n",
       "    </tr>\n",
       "  </thead>\n",
       "  <tbody>\n",
       "    <tr>\n",
       "      <th>0</th>\n",
       "      <td>NaT</td>\n",
       "      <td>NaN</td>\n",
       "      <td>NaN</td>\n",
       "    </tr>\n",
       "    <tr>\n",
       "      <th>1</th>\n",
       "      <td>04:00:00</td>\n",
       "      <td>14.0</td>\n",
       "      <td>11.0</td>\n",
       "    </tr>\n",
       "    <tr>\n",
       "      <th>2</th>\n",
       "      <td>04:00:00</td>\n",
       "      <td>44.0</td>\n",
       "      <td>78.0</td>\n",
       "    </tr>\n",
       "    <tr>\n",
       "      <th>3</th>\n",
       "      <td>04:00:00</td>\n",
       "      <td>156.0</td>\n",
       "      <td>59.0</td>\n",
       "    </tr>\n",
       "    <tr>\n",
       "      <th>4</th>\n",
       "      <td>04:00:00</td>\n",
       "      <td>284.0</td>\n",
       "      <td>61.0</td>\n",
       "    </tr>\n",
       "  </tbody>\n",
       "</table>\n",
       "</div>"
      ],
      "text/plain": [
       "   DATE_TIME  ENTRIES  EXITS\n",
       "0        NaT      NaN    NaN\n",
       "1   04:00:00     14.0   11.0\n",
       "2   04:00:00     44.0   78.0\n",
       "3   04:00:00    156.0   59.0\n",
       "4   04:00:00    284.0   61.0"
      ]
     },
     "execution_count": 13,
     "metadata": {},
     "output_type": "execute_result"
    }
   ],
   "source": [
    "df_temp1.head()"
   ]
  },
  {
   "cell_type": "markdown",
   "metadata": {},
   "source": [
    ">  I am trying to consolidate df_temp data with df_temp1 data. df_temp1 has ENTRIES and Exits values with base corrections"
   ]
  },
  {
   "cell_type": "code",
   "execution_count": 14,
   "metadata": {},
   "outputs": [],
   "source": [
    "df_temp2=(df_temp\n",
    " .sort_values(by=['turnstile_id','DATE_TIME']))"
   ]
  },
  {
   "cell_type": "code",
   "execution_count": 15,
   "metadata": {},
   "outputs": [
    {
     "data": {
      "text/html": [
       "<div>\n",
       "<table border=\"1\" class=\"dataframe\">\n",
       "  <thead>\n",
       "    <tr style=\"text-align: right;\">\n",
       "      <th></th>\n",
       "      <th>turnstile_id</th>\n",
       "      <th>date</th>\n",
       "      <th>DATE_TIME</th>\n",
       "      <th>ENTRIES</th>\n",
       "      <th>EXITS</th>\n",
       "      <th>STATION</th>\n",
       "    </tr>\n",
       "  </thead>\n",
       "  <tbody>\n",
       "    <tr>\n",
       "      <th>0</th>\n",
       "      <td>A002_R051_02-00-00_59 ST</td>\n",
       "      <td>2018-02-24</td>\n",
       "      <td>2018-02-24 03:00:00</td>\n",
       "      <td>6527780</td>\n",
       "      <td>2210496</td>\n",
       "      <td>59 ST</td>\n",
       "    </tr>\n",
       "    <tr>\n",
       "      <th>1</th>\n",
       "      <td>A002_R051_02-00-00_59 ST</td>\n",
       "      <td>2018-02-24</td>\n",
       "      <td>2018-02-24 07:00:00</td>\n",
       "      <td>6527794</td>\n",
       "      <td>2210507</td>\n",
       "      <td>59 ST</td>\n",
       "    </tr>\n",
       "    <tr>\n",
       "      <th>2</th>\n",
       "      <td>A002_R051_02-00-00_59 ST</td>\n",
       "      <td>2018-02-24</td>\n",
       "      <td>2018-02-24 11:00:00</td>\n",
       "      <td>6527838</td>\n",
       "      <td>2210585</td>\n",
       "      <td>59 ST</td>\n",
       "    </tr>\n",
       "    <tr>\n",
       "      <th>3</th>\n",
       "      <td>A002_R051_02-00-00_59 ST</td>\n",
       "      <td>2018-02-24</td>\n",
       "      <td>2018-02-24 15:00:00</td>\n",
       "      <td>6527994</td>\n",
       "      <td>2210644</td>\n",
       "      <td>59 ST</td>\n",
       "    </tr>\n",
       "    <tr>\n",
       "      <th>4</th>\n",
       "      <td>A002_R051_02-00-00_59 ST</td>\n",
       "      <td>2018-02-24</td>\n",
       "      <td>2018-02-24 19:00:00</td>\n",
       "      <td>6528278</td>\n",
       "      <td>2210705</td>\n",
       "      <td>59 ST</td>\n",
       "    </tr>\n",
       "  </tbody>\n",
       "</table>\n",
       "</div>"
      ],
      "text/plain": [
       "               turnstile_id       date           DATE_TIME  ENTRIES    EXITS  \\\n",
       "0  A002_R051_02-00-00_59 ST 2018-02-24 2018-02-24 03:00:00  6527780  2210496   \n",
       "1  A002_R051_02-00-00_59 ST 2018-02-24 2018-02-24 07:00:00  6527794  2210507   \n",
       "2  A002_R051_02-00-00_59 ST 2018-02-24 2018-02-24 11:00:00  6527838  2210585   \n",
       "3  A002_R051_02-00-00_59 ST 2018-02-24 2018-02-24 15:00:00  6527994  2210644   \n",
       "4  A002_R051_02-00-00_59 ST 2018-02-24 2018-02-24 19:00:00  6528278  2210705   \n",
       "\n",
       "  STATION  \n",
       "0   59 ST  \n",
       "1   59 ST  \n",
       "2   59 ST  \n",
       "3   59 ST  \n",
       "4   59 ST  "
      ]
     },
     "execution_count": 15,
     "metadata": {},
     "output_type": "execute_result"
    }
   ],
   "source": [
    "df_temp2.head()"
   ]
  },
  {
   "cell_type": "code",
   "execution_count": 16,
   "metadata": {},
   "outputs": [],
   "source": [
    "df_temp1['turnstile_id']=df_temp2['turnstile_id']"
   ]
  },
  {
   "cell_type": "code",
   "execution_count": 17,
   "metadata": {},
   "outputs": [],
   "source": [
    "df_temp1['STATION']=df_temp2['STATION']"
   ]
  },
  {
   "cell_type": "code",
   "execution_count": 18,
   "metadata": {},
   "outputs": [],
   "source": [
    "df_temp1['date']=df_temp2['date']"
   ]
  },
  {
   "cell_type": "code",
   "execution_count": 19,
   "metadata": {},
   "outputs": [
    {
     "data": {
      "text/html": [
       "<div>\n",
       "<table border=\"1\" class=\"dataframe\">\n",
       "  <thead>\n",
       "    <tr style=\"text-align: right;\">\n",
       "      <th></th>\n",
       "      <th>DATE_TIME</th>\n",
       "      <th>ENTRIES</th>\n",
       "      <th>EXITS</th>\n",
       "      <th>turnstile_id</th>\n",
       "      <th>STATION</th>\n",
       "      <th>date</th>\n",
       "    </tr>\n",
       "  </thead>\n",
       "  <tbody>\n",
       "    <tr>\n",
       "      <th>0</th>\n",
       "      <td>NaT</td>\n",
       "      <td>NaN</td>\n",
       "      <td>NaN</td>\n",
       "      <td>A002_R051_02-00-00_59 ST</td>\n",
       "      <td>59 ST</td>\n",
       "      <td>2018-02-24</td>\n",
       "    </tr>\n",
       "    <tr>\n",
       "      <th>1</th>\n",
       "      <td>04:00:00</td>\n",
       "      <td>14.0</td>\n",
       "      <td>11.0</td>\n",
       "      <td>A002_R051_02-00-00_59 ST</td>\n",
       "      <td>59 ST</td>\n",
       "      <td>2018-02-24</td>\n",
       "    </tr>\n",
       "    <tr>\n",
       "      <th>2</th>\n",
       "      <td>04:00:00</td>\n",
       "      <td>44.0</td>\n",
       "      <td>78.0</td>\n",
       "      <td>A002_R051_02-00-00_59 ST</td>\n",
       "      <td>59 ST</td>\n",
       "      <td>2018-02-24</td>\n",
       "    </tr>\n",
       "    <tr>\n",
       "      <th>3</th>\n",
       "      <td>04:00:00</td>\n",
       "      <td>156.0</td>\n",
       "      <td>59.0</td>\n",
       "      <td>A002_R051_02-00-00_59 ST</td>\n",
       "      <td>59 ST</td>\n",
       "      <td>2018-02-24</td>\n",
       "    </tr>\n",
       "    <tr>\n",
       "      <th>4</th>\n",
       "      <td>04:00:00</td>\n",
       "      <td>284.0</td>\n",
       "      <td>61.0</td>\n",
       "      <td>A002_R051_02-00-00_59 ST</td>\n",
       "      <td>59 ST</td>\n",
       "      <td>2018-02-24</td>\n",
       "    </tr>\n",
       "    <tr>\n",
       "      <th>5</th>\n",
       "      <td>04:00:00</td>\n",
       "      <td>111.0</td>\n",
       "      <td>23.0</td>\n",
       "      <td>A002_R051_02-00-00_59 ST</td>\n",
       "      <td>59 ST</td>\n",
       "      <td>2018-02-24</td>\n",
       "    </tr>\n",
       "    <tr>\n",
       "      <th>6</th>\n",
       "      <td>NaT</td>\n",
       "      <td>NaN</td>\n",
       "      <td>NaN</td>\n",
       "      <td>A002_R051_02-00-00_59 ST</td>\n",
       "      <td>59 ST</td>\n",
       "      <td>2018-02-25</td>\n",
       "    </tr>\n",
       "    <tr>\n",
       "      <th>7</th>\n",
       "      <td>04:00:00</td>\n",
       "      <td>6.0</td>\n",
       "      <td>7.0</td>\n",
       "      <td>A002_R051_02-00-00_59 ST</td>\n",
       "      <td>59 ST</td>\n",
       "      <td>2018-02-25</td>\n",
       "    </tr>\n",
       "    <tr>\n",
       "      <th>8</th>\n",
       "      <td>04:00:00</td>\n",
       "      <td>45.0</td>\n",
       "      <td>47.0</td>\n",
       "      <td>A002_R051_02-00-00_59 ST</td>\n",
       "      <td>59 ST</td>\n",
       "      <td>2018-02-25</td>\n",
       "    </tr>\n",
       "    <tr>\n",
       "      <th>9</th>\n",
       "      <td>04:00:00</td>\n",
       "      <td>123.0</td>\n",
       "      <td>50.0</td>\n",
       "      <td>A002_R051_02-00-00_59 ST</td>\n",
       "      <td>59 ST</td>\n",
       "      <td>2018-02-25</td>\n",
       "    </tr>\n",
       "    <tr>\n",
       "      <th>10</th>\n",
       "      <td>04:00:00</td>\n",
       "      <td>194.0</td>\n",
       "      <td>48.0</td>\n",
       "      <td>A002_R051_02-00-00_59 ST</td>\n",
       "      <td>59 ST</td>\n",
       "      <td>2018-02-25</td>\n",
       "    </tr>\n",
       "    <tr>\n",
       "      <th>11</th>\n",
       "      <td>04:00:00</td>\n",
       "      <td>105.0</td>\n",
       "      <td>19.0</td>\n",
       "      <td>A002_R051_02-00-00_59 ST</td>\n",
       "      <td>59 ST</td>\n",
       "      <td>2018-02-25</td>\n",
       "    </tr>\n",
       "    <tr>\n",
       "      <th>12</th>\n",
       "      <td>NaT</td>\n",
       "      <td>NaN</td>\n",
       "      <td>NaN</td>\n",
       "      <td>A002_R051_02-00-00_59 ST</td>\n",
       "      <td>59 ST</td>\n",
       "      <td>2018-02-26</td>\n",
       "    </tr>\n",
       "    <tr>\n",
       "      <th>13</th>\n",
       "      <td>04:00:00</td>\n",
       "      <td>13.0</td>\n",
       "      <td>31.0</td>\n",
       "      <td>A002_R051_02-00-00_59 ST</td>\n",
       "      <td>59 ST</td>\n",
       "      <td>2018-02-26</td>\n",
       "    </tr>\n",
       "    <tr>\n",
       "      <th>14</th>\n",
       "      <td>04:00:00</td>\n",
       "      <td>135.0</td>\n",
       "      <td>200.0</td>\n",
       "      <td>A002_R051_02-00-00_59 ST</td>\n",
       "      <td>59 ST</td>\n",
       "      <td>2018-02-26</td>\n",
       "    </tr>\n",
       "    <tr>\n",
       "      <th>15</th>\n",
       "      <td>04:00:00</td>\n",
       "      <td>215.0</td>\n",
       "      <td>64.0</td>\n",
       "      <td>A002_R051_02-00-00_59 ST</td>\n",
       "      <td>59 ST</td>\n",
       "      <td>2018-02-26</td>\n",
       "    </tr>\n",
       "    <tr>\n",
       "      <th>16</th>\n",
       "      <td>04:00:00</td>\n",
       "      <td>750.0</td>\n",
       "      <td>54.0</td>\n",
       "      <td>A002_R051_02-00-00_59 ST</td>\n",
       "      <td>59 ST</td>\n",
       "      <td>2018-02-26</td>\n",
       "    </tr>\n",
       "    <tr>\n",
       "      <th>17</th>\n",
       "      <td>04:00:00</td>\n",
       "      <td>271.0</td>\n",
       "      <td>35.0</td>\n",
       "      <td>A002_R051_02-00-00_59 ST</td>\n",
       "      <td>59 ST</td>\n",
       "      <td>2018-02-26</td>\n",
       "    </tr>\n",
       "    <tr>\n",
       "      <th>18</th>\n",
       "      <td>NaT</td>\n",
       "      <td>NaN</td>\n",
       "      <td>NaN</td>\n",
       "      <td>A002_R051_02-00-00_59 ST</td>\n",
       "      <td>59 ST</td>\n",
       "      <td>2018-02-27</td>\n",
       "    </tr>\n",
       "    <tr>\n",
       "      <th>19</th>\n",
       "      <td>04:00:00</td>\n",
       "      <td>13.0</td>\n",
       "      <td>34.0</td>\n",
       "      <td>A002_R051_02-00-00_59 ST</td>\n",
       "      <td>59 ST</td>\n",
       "      <td>2018-02-27</td>\n",
       "    </tr>\n",
       "  </tbody>\n",
       "</table>\n",
       "</div>"
      ],
      "text/plain": [
       "    DATE_TIME  ENTRIES  EXITS              turnstile_id STATION       date\n",
       "0         NaT      NaN    NaN  A002_R051_02-00-00_59 ST   59 ST 2018-02-24\n",
       "1    04:00:00     14.0   11.0  A002_R051_02-00-00_59 ST   59 ST 2018-02-24\n",
       "2    04:00:00     44.0   78.0  A002_R051_02-00-00_59 ST   59 ST 2018-02-24\n",
       "3    04:00:00    156.0   59.0  A002_R051_02-00-00_59 ST   59 ST 2018-02-24\n",
       "4    04:00:00    284.0   61.0  A002_R051_02-00-00_59 ST   59 ST 2018-02-24\n",
       "5    04:00:00    111.0   23.0  A002_R051_02-00-00_59 ST   59 ST 2018-02-24\n",
       "6         NaT      NaN    NaN  A002_R051_02-00-00_59 ST   59 ST 2018-02-25\n",
       "7    04:00:00      6.0    7.0  A002_R051_02-00-00_59 ST   59 ST 2018-02-25\n",
       "8    04:00:00     45.0   47.0  A002_R051_02-00-00_59 ST   59 ST 2018-02-25\n",
       "9    04:00:00    123.0   50.0  A002_R051_02-00-00_59 ST   59 ST 2018-02-25\n",
       "10   04:00:00    194.0   48.0  A002_R051_02-00-00_59 ST   59 ST 2018-02-25\n",
       "11   04:00:00    105.0   19.0  A002_R051_02-00-00_59 ST   59 ST 2018-02-25\n",
       "12        NaT      NaN    NaN  A002_R051_02-00-00_59 ST   59 ST 2018-02-26\n",
       "13   04:00:00     13.0   31.0  A002_R051_02-00-00_59 ST   59 ST 2018-02-26\n",
       "14   04:00:00    135.0  200.0  A002_R051_02-00-00_59 ST   59 ST 2018-02-26\n",
       "15   04:00:00    215.0   64.0  A002_R051_02-00-00_59 ST   59 ST 2018-02-26\n",
       "16   04:00:00    750.0   54.0  A002_R051_02-00-00_59 ST   59 ST 2018-02-26\n",
       "17   04:00:00    271.0   35.0  A002_R051_02-00-00_59 ST   59 ST 2018-02-26\n",
       "18        NaT      NaN    NaN  A002_R051_02-00-00_59 ST   59 ST 2018-02-27\n",
       "19   04:00:00     13.0   34.0  A002_R051_02-00-00_59 ST   59 ST 2018-02-27"
      ]
     },
     "execution_count": 19,
     "metadata": {},
     "output_type": "execute_result"
    }
   ],
   "source": [
    "df_temp1.head(20)"
   ]
  },
  {
   "cell_type": "markdown",
   "metadata": {},
   "source": [
    "> Let drop the NaN values from the df_temp1 data frame."
   ]
  },
  {
   "cell_type": "code",
   "execution_count": 20,
   "metadata": {},
   "outputs": [],
   "source": [
    "df_temp1.dropna(axis=0,inplace=True)"
   ]
  },
  {
   "cell_type": "markdown",
   "metadata": {},
   "source": [
    "> Lets make our dataframe bit smaller"
   ]
  },
  {
   "cell_type": "code",
   "execution_count": 21,
   "metadata": {},
   "outputs": [],
   "source": [
    "df_final=pd.DataFrame()\n",
    "df_final=df_temp1[['ENTRIES','turnstile_id','STATION','date']]"
   ]
  },
  {
   "cell_type": "code",
   "execution_count": 22,
   "metadata": {},
   "outputs": [
    {
     "data": {
      "text/html": [
       "<div>\n",
       "<table border=\"1\" class=\"dataframe\">\n",
       "  <thead>\n",
       "    <tr style=\"text-align: right;\">\n",
       "      <th></th>\n",
       "      <th>ENTRIES</th>\n",
       "      <th>turnstile_id</th>\n",
       "      <th>STATION</th>\n",
       "      <th>date</th>\n",
       "    </tr>\n",
       "  </thead>\n",
       "  <tbody>\n",
       "    <tr>\n",
       "      <th>1</th>\n",
       "      <td>14.0</td>\n",
       "      <td>A002_R051_02-00-00_59 ST</td>\n",
       "      <td>59 ST</td>\n",
       "      <td>2018-02-24</td>\n",
       "    </tr>\n",
       "    <tr>\n",
       "      <th>2</th>\n",
       "      <td>44.0</td>\n",
       "      <td>A002_R051_02-00-00_59 ST</td>\n",
       "      <td>59 ST</td>\n",
       "      <td>2018-02-24</td>\n",
       "    </tr>\n",
       "    <tr>\n",
       "      <th>3</th>\n",
       "      <td>156.0</td>\n",
       "      <td>A002_R051_02-00-00_59 ST</td>\n",
       "      <td>59 ST</td>\n",
       "      <td>2018-02-24</td>\n",
       "    </tr>\n",
       "    <tr>\n",
       "      <th>4</th>\n",
       "      <td>284.0</td>\n",
       "      <td>A002_R051_02-00-00_59 ST</td>\n",
       "      <td>59 ST</td>\n",
       "      <td>2018-02-24</td>\n",
       "    </tr>\n",
       "    <tr>\n",
       "      <th>5</th>\n",
       "      <td>111.0</td>\n",
       "      <td>A002_R051_02-00-00_59 ST</td>\n",
       "      <td>59 ST</td>\n",
       "      <td>2018-02-24</td>\n",
       "    </tr>\n",
       "  </tbody>\n",
       "</table>\n",
       "</div>"
      ],
      "text/plain": [
       "   ENTRIES              turnstile_id STATION       date\n",
       "1     14.0  A002_R051_02-00-00_59 ST   59 ST 2018-02-24\n",
       "2     44.0  A002_R051_02-00-00_59 ST   59 ST 2018-02-24\n",
       "3    156.0  A002_R051_02-00-00_59 ST   59 ST 2018-02-24\n",
       "4    284.0  A002_R051_02-00-00_59 ST   59 ST 2018-02-24\n",
       "5    111.0  A002_R051_02-00-00_59 ST   59 ST 2018-02-24"
      ]
     },
     "execution_count": 22,
     "metadata": {},
     "output_type": "execute_result"
    }
   ],
   "source": [
    "df_final.head()"
   ]
  },
  {
   "cell_type": "code",
   "execution_count": 23,
   "metadata": {},
   "outputs": [],
   "source": [
    "df_final1=(df_final\n",
    " .groupby(['turnstile_id','date','STATION'])\n",
    " .sum())"
   ]
  },
  {
   "cell_type": "code",
   "execution_count": 24,
   "metadata": {},
   "outputs": [
    {
     "data": {
      "text/plain": [
       "838736200.0"
      ]
     },
     "execution_count": 24,
     "metadata": {},
     "output_type": "execute_result"
    }
   ],
   "source": [
    "df_final1['ENTRIES'].max()"
   ]
  },
  {
   "cell_type": "code",
   "execution_count": 25,
   "metadata": {},
   "outputs": [],
   "source": [
    "df_anal=df_final1.reset_index()"
   ]
  },
  {
   "cell_type": "code",
   "execution_count": 26,
   "metadata": {},
   "outputs": [
    {
     "data": {
      "text/plain": [
       "pandas.core.frame.DataFrame"
      ]
     },
     "execution_count": 26,
     "metadata": {},
     "output_type": "execute_result"
    }
   ],
   "source": [
    "type(df_final1)"
   ]
  },
  {
   "cell_type": "code",
   "execution_count": 27,
   "metadata": {},
   "outputs": [
    {
     "data": {
      "text/plain": [
       "Index(['ENTRIES'], dtype='object')"
      ]
     },
     "execution_count": 27,
     "metadata": {},
     "output_type": "execute_result"
    }
   ],
   "source": [
    "df_final1.columns"
   ]
  },
  {
   "cell_type": "code",
   "execution_count": 28,
   "metadata": {},
   "outputs": [
    {
     "data": {
      "text/html": [
       "<div>\n",
       "<table border=\"1\" class=\"dataframe\">\n",
       "  <thead>\n",
       "    <tr style=\"text-align: right;\">\n",
       "      <th></th>\n",
       "      <th>turnstile_id</th>\n",
       "      <th>date</th>\n",
       "      <th>STATION</th>\n",
       "      <th>ENTRIES</th>\n",
       "    </tr>\n",
       "  </thead>\n",
       "  <tbody>\n",
       "    <tr>\n",
       "      <th>0</th>\n",
       "      <td>A002_R051_02-00-00_59 ST</td>\n",
       "      <td>2018-02-24</td>\n",
       "      <td>59 ST</td>\n",
       "      <td>609.0</td>\n",
       "    </tr>\n",
       "    <tr>\n",
       "      <th>1</th>\n",
       "      <td>A002_R051_02-00-00_59 ST</td>\n",
       "      <td>2018-02-25</td>\n",
       "      <td>59 ST</td>\n",
       "      <td>473.0</td>\n",
       "    </tr>\n",
       "    <tr>\n",
       "      <th>2</th>\n",
       "      <td>A002_R051_02-00-00_59 ST</td>\n",
       "      <td>2018-02-26</td>\n",
       "      <td>59 ST</td>\n",
       "      <td>1384.0</td>\n",
       "    </tr>\n",
       "    <tr>\n",
       "      <th>3</th>\n",
       "      <td>A002_R051_02-00-00_59 ST</td>\n",
       "      <td>2018-02-27</td>\n",
       "      <td>59 ST</td>\n",
       "      <td>1445.0</td>\n",
       "    </tr>\n",
       "    <tr>\n",
       "      <th>4</th>\n",
       "      <td>A002_R051_02-00-00_59 ST</td>\n",
       "      <td>2018-02-28</td>\n",
       "      <td>59 ST</td>\n",
       "      <td>1435.0</td>\n",
       "    </tr>\n",
       "  </tbody>\n",
       "</table>\n",
       "</div>"
      ],
      "text/plain": [
       "               turnstile_id       date STATION  ENTRIES\n",
       "0  A002_R051_02-00-00_59 ST 2018-02-24   59 ST    609.0\n",
       "1  A002_R051_02-00-00_59 ST 2018-02-25   59 ST    473.0\n",
       "2  A002_R051_02-00-00_59 ST 2018-02-26   59 ST   1384.0\n",
       "3  A002_R051_02-00-00_59 ST 2018-02-27   59 ST   1445.0\n",
       "4  A002_R051_02-00-00_59 ST 2018-02-28   59 ST   1435.0"
      ]
     },
     "execution_count": 28,
     "metadata": {},
     "output_type": "execute_result"
    }
   ],
   "source": [
    "df_anal.head()"
   ]
  },
  {
   "cell_type": "markdown",
   "metadata": {},
   "source": [
    "> Lets sort the Station according to entries"
   ]
  },
  {
   "cell_type": "code",
   "execution_count": 29,
   "metadata": {},
   "outputs": [],
   "source": [
    "station_entry_count = df_anal.groupby(by='STATION', as_index=False).sum()[['STATION','ENTRIES']].sort_values('ENTRIES', ascending=False)"
   ]
  },
  {
   "cell_type": "markdown",
   "metadata": {},
   "source": [
    "> Find top 20 Stations"
   ]
  },
  {
   "cell_type": "code",
   "execution_count": 35,
   "metadata": {},
   "outputs": [],
   "source": [
    "top_20_station_entry_count=station_entry_count.head(20)"
   ]
  },
  {
   "cell_type": "markdown",
   "metadata": {},
   "source": [
    "> Lets find top 20 unique stations"
   ]
  },
  {
   "cell_type": "code",
   "execution_count": 36,
   "metadata": {},
   "outputs": [],
   "source": [
    "top_20_station_entry_count=top_20_station_entry_count.drop(top_20_station_entry_count[top_20_station_entry_count['ENTRIES']> 83880054].index)"
   ]
  },
  {
   "cell_type": "code",
   "execution_count": 37,
   "metadata": {},
   "outputs": [],
   "source": [
    "top_20_unique_station=top_20_station_entry_count['STATION'].unique()"
   ]
  },
  {
   "cell_type": "markdown",
   "metadata": {},
   "source": [
    "> Lets us pandas to give a quick view of plot"
   ]
  },
  {
   "cell_type": "code",
   "execution_count": 38,
   "metadata": {},
   "outputs": [
    {
     "data": {
      "text/plain": [
       "<matplotlib.text.Text at 0x125091c50>"
      ]
     },
     "execution_count": 38,
     "metadata": {},
     "output_type": "execute_result"
    },
    {
     "data": {
      "image/png": "[encoded data removed]",
      "text/plain": [
       "<matplotlib.figure.Figure at 0x121e5fa90>"
      ]
     },
     "metadata": {},
     "output_type": "display_data"
    }
   ],
   "source": [
    "top_20_station_entry_count.plot(kind='bar', x='STATION', y='ENTRIES',label='Traffic per station')\n",
    "plt.xlabel('Station')"
   ]
  },
  {
   "cell_type": "markdown",
   "metadata": {},
   "source": [
    "> Lets use Seaborn to generate better looking plot"
   ]
  },
  {
   "cell_type": "code",
   "execution_count": 39,
   "metadata": {},
   "outputs": [
    {
     "data": {
      "image/png": "[encoded data removed]",
      "text/plain": [
       "<matplotlib.figure.Figure at 0x1250a4c18>"
      ]
     },
     "metadata": {},
     "output_type": "display_data"
    }
   ],
   "source": [
    "import matplotlib as mpl\n",
    "mpl.rc('font', family='serif', serif='Times New Roman')\n",
    "sns.reset_orig()\n",
    "sns.set_style(\"white\",\n",
    "              {'xtick.major.size': 1.5,\n",
    "               'ytick.major.size': 0.0,\n",
    "               'xtick.direction': u'in',\n",
    "               'axes.linewidth': 0.5,\n",
    "               'axes.edgecolor': '.2',\n",
    "               'grid.linestyle': u'-',\n",
    "               'axes.labelcolor': '.05',\n",
    "               'ytick.major.size': 0.0,\n",
    "               'ytick.minor.size': 0.0,\n",
    "               'ytick.direction': u'out',\n",
    "               'axes.labelcolor': '.45',\n",
    "               'text.color': '.05',\n",
    "               'ytick.color': '.15',\n",
    "               'grid.color': '.05'})\n",
    "#sns.set_context(\"talk\")\n",
    "\n",
    "f, ax = plt.subplots(figsize=(18, 9))\n",
    "sns.set(style=\"whitegrid\")\n",
    "sns.set(font_scale=1)\n",
    "ax=sns.barplot(y=\"STATION\", x=\"ENTRIES\", data=top_20_station_entry_count,\n",
    "            label=\"Total\",color='lightslategrey');\n",
    "sns.despine(left=True, bottom=True,trim=True)\n",
    "ax.set_title('Top 20 station by volume : last six weeks',fontsize=15)\n",
    "ax.set_xlabel('Number of entries',fontsize=15)\n",
    "ax.set_ylabel('Station name',fontsize=15)\n",
    "plt.savefig('MTN_many_file'+'.'+'png',format='png')\n",
    "plt.show()\n",
    "#ax.set_yticks([])"
   ]
  },
  {
   "cell_type": "markdown",
   "metadata": {},
   "source": [
    "> Convert numeric form of date to a weekday form"
   ]
  },
  {
   "cell_type": "code",
   "execution_count": 40,
   "metadata": {},
   "outputs": [],
   "source": [
    "df_anal['day_of_week'] = [calendar.day_name[i.weekday()] for i in df_anal.date]"
   ]
  },
  {
   "cell_type": "code",
   "execution_count": 34,
   "metadata": {},
   "outputs": [
    {
     "data": {
      "text/html": [
       "<div>\n",
       "<table border=\"1\" class=\"dataframe\">\n",
       "  <thead>\n",
       "    <tr style=\"text-align: right;\">\n",
       "      <th></th>\n",
       "      <th>turnstile_id</th>\n",
       "      <th>date</th>\n",
       "      <th>STATION</th>\n",
       "      <th>ENTRIES</th>\n",
       "      <th>day_of_week</th>\n",
       "    </tr>\n",
       "  </thead>\n",
       "  <tbody>\n",
       "    <tr>\n",
       "      <th>0</th>\n",
       "      <td>A002_R051_02-00-00_59 ST</td>\n",
       "      <td>2018-02-24</td>\n",
       "      <td>59 ST</td>\n",
       "      <td>609.0</td>\n",
       "      <td>Saturday</td>\n",
       "    </tr>\n",
       "    <tr>\n",
       "      <th>1</th>\n",
       "      <td>A002_R051_02-00-00_59 ST</td>\n",
       "      <td>2018-02-25</td>\n",
       "      <td>59 ST</td>\n",
       "      <td>473.0</td>\n",
       "      <td>Sunday</td>\n",
       "    </tr>\n",
       "    <tr>\n",
       "      <th>2</th>\n",
       "      <td>A002_R051_02-00-00_59 ST</td>\n",
       "      <td>2018-02-26</td>\n",
       "      <td>59 ST</td>\n",
       "      <td>1384.0</td>\n",
       "      <td>Monday</td>\n",
       "    </tr>\n",
       "    <tr>\n",
       "      <th>3</th>\n",
       "      <td>A002_R051_02-00-00_59 ST</td>\n",
       "      <td>2018-02-27</td>\n",
       "      <td>59 ST</td>\n",
       "      <td>1445.0</td>\n",
       "      <td>Tuesday</td>\n",
       "    </tr>\n",
       "    <tr>\n",
       "      <th>4</th>\n",
       "      <td>A002_R051_02-00-00_59 ST</td>\n",
       "      <td>2018-02-28</td>\n",
       "      <td>59 ST</td>\n",
       "      <td>1435.0</td>\n",
       "      <td>Wednesday</td>\n",
       "    </tr>\n",
       "  </tbody>\n",
       "</table>\n",
       "</div>"
      ],
      "text/plain": [
       "               turnstile_id       date STATION  ENTRIES day_of_week\n",
       "0  A002_R051_02-00-00_59 ST 2018-02-24   59 ST    609.0    Saturday\n",
       "1  A002_R051_02-00-00_59 ST 2018-02-25   59 ST    473.0      Sunday\n",
       "2  A002_R051_02-00-00_59 ST 2018-02-26   59 ST   1384.0      Monday\n",
       "3  A002_R051_02-00-00_59 ST 2018-02-27   59 ST   1445.0     Tuesday\n",
       "4  A002_R051_02-00-00_59 ST 2018-02-28   59 ST   1435.0   Wednesday"
      ]
     },
     "execution_count": 34,
     "metadata": {},
     "output_type": "execute_result"
    }
   ],
   "source": [
    "df_anal.head()"
   ]
  },
  {
   "cell_type": "code",
   "execution_count": 35,
   "metadata": {},
   "outputs": [],
   "source": [
    "df_ana1 = df_anal.groupby(by=['STATION','day_of_week']).sum()[['ENTRIES']].sort_values('ENTRIES', ascending=False)"
   ]
  },
  {
   "cell_type": "code",
   "execution_count": 36,
   "metadata": {},
   "outputs": [],
   "source": [
    "df_anal.reset_index(inplace=True)"
   ]
  },
  {
   "cell_type": "code",
   "execution_count": 37,
   "metadata": {},
   "outputs": [
    {
     "data": {
      "text/html": [
       "<div>\n",
       "<table border=\"1\" class=\"dataframe\">\n",
       "  <thead>\n",
       "    <tr style=\"text-align: right;\">\n",
       "      <th></th>\n",
       "      <th>index</th>\n",
       "      <th>turnstile_id</th>\n",
       "      <th>date</th>\n",
       "      <th>STATION</th>\n",
       "      <th>ENTRIES</th>\n",
       "      <th>day_of_week</th>\n",
       "    </tr>\n",
       "  </thead>\n",
       "  <tbody>\n",
       "    <tr>\n",
       "      <th>0</th>\n",
       "      <td>0</td>\n",
       "      <td>A002_R051_02-00-00_59 ST</td>\n",
       "      <td>2018-02-24</td>\n",
       "      <td>59 ST</td>\n",
       "      <td>609.0</td>\n",
       "      <td>Saturday</td>\n",
       "    </tr>\n",
       "    <tr>\n",
       "      <th>1</th>\n",
       "      <td>1</td>\n",
       "      <td>A002_R051_02-00-00_59 ST</td>\n",
       "      <td>2018-02-25</td>\n",
       "      <td>59 ST</td>\n",
       "      <td>473.0</td>\n",
       "      <td>Sunday</td>\n",
       "    </tr>\n",
       "    <tr>\n",
       "      <th>2</th>\n",
       "      <td>2</td>\n",
       "      <td>A002_R051_02-00-00_59 ST</td>\n",
       "      <td>2018-02-26</td>\n",
       "      <td>59 ST</td>\n",
       "      <td>1384.0</td>\n",
       "      <td>Monday</td>\n",
       "    </tr>\n",
       "    <tr>\n",
       "      <th>3</th>\n",
       "      <td>3</td>\n",
       "      <td>A002_R051_02-00-00_59 ST</td>\n",
       "      <td>2018-02-27</td>\n",
       "      <td>59 ST</td>\n",
       "      <td>1445.0</td>\n",
       "      <td>Tuesday</td>\n",
       "    </tr>\n",
       "    <tr>\n",
       "      <th>4</th>\n",
       "      <td>4</td>\n",
       "      <td>A002_R051_02-00-00_59 ST</td>\n",
       "      <td>2018-02-28</td>\n",
       "      <td>59 ST</td>\n",
       "      <td>1435.0</td>\n",
       "      <td>Wednesday</td>\n",
       "    </tr>\n",
       "  </tbody>\n",
       "</table>\n",
       "</div>"
      ],
      "text/plain": [
       "   index              turnstile_id       date STATION  ENTRIES day_of_week\n",
       "0      0  A002_R051_02-00-00_59 ST 2018-02-24   59 ST    609.0    Saturday\n",
       "1      1  A002_R051_02-00-00_59 ST 2018-02-25   59 ST    473.0      Sunday\n",
       "2      2  A002_R051_02-00-00_59 ST 2018-02-26   59 ST   1384.0      Monday\n",
       "3      3  A002_R051_02-00-00_59 ST 2018-02-27   59 ST   1445.0     Tuesday\n",
       "4      4  A002_R051_02-00-00_59 ST 2018-02-28   59 ST   1435.0   Wednesday"
      ]
     },
     "execution_count": 37,
     "metadata": {},
     "output_type": "execute_result"
    }
   ],
   "source": [
    "df_anal.head()"
   ]
  }
 ],
 "metadata": {
  "kernelspec": {
   "display_name": "Python 3",
   "language": "python",
   "name": "python3"
  },
  "language_info": {
   "codemirror_mode": {
    "name": "ipython",
    "version": 3
   },
   "file_extension": ".py",
   "mimetype": "text/x-python",
   "name": "python",
   "nbconvert_exporter": "python",
   "pygments_lexer": "ipython3",
   "version": "3.5.2"
  }
 },
 "nbformat": 4,
 "nbformat_minor": 2
}
